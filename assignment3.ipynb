{
  "metadata": {
    "kernelspec": {
      "name": "python",
      "display_name": "Python (Pyodide)",
      "language": "python"
    },
    "language_info": {
      "codemirror_mode": {
        "name": "python",
        "version": 3
      },
      "file_extension": ".py",
      "mimetype": "text/x-python",
      "name": "python",
      "nbconvert_exporter": "python",
      "pygments_lexer": "ipython3",
      "version": "3.8"
    }
  },
  "nbformat_minor": 5,
  "nbformat": 4,
  "cells": [
    {
      "id": "d6cb97ff-2970-4c90-815b-fa4bd3bce790",
      "cell_type": "markdown",
      "source": "Theory Questions:",
      "metadata": {}
    },
    {
      "id": "d1ee671e-c71d-4547-bbf4-6556d8de1982",
      "cell_type": "code",
      "source": "1.# What is the difference between a function and a method in Python?\n  # In Python, functions and methods are similar in that both are blocks of reusable code,\n  # but they differ primarily in how they are used and what they are associated with.\n<#. Function\n#A function is a standalone block of code that performs a specific task.\n#It is defined using the def keyword.\n#It can be called independently and is not associated with any object (unless you assign it as an attribute).\n#exmaple\ndef greet(name):\n    return f\"Hello, {name}!\"\n\nprint(greet(\"rajat\"))\n\n<#. Method\n#A method is a function that is associated with an object, typically defined inside a class.\n#The first argument of a method is usually self, which refers to the instance of the class.\n#Methods are called on objects (instances of classes).\nclass Greeter:\n    def greet(self, name):\n        return f\"Hello, {name}!\"\n\ng = Greeter()\nprint(g.greet(\"Alice\"))  ",
      "metadata": {
        "trusted": true
      },
      "outputs": [],
      "execution_count": null
    },
    {
      "id": "d9c4b205-dc70-4e30-b24e-f27ff55b0943",
      "cell_type": "code",
      "source": "2#. Explain the concept of function arguments and parameters in Python.\n<# Parameters\n#Parameters are the variables listed in a function’s definition.\n#They act as placeholders for the values the function expects to receive.\n#Example:\ndef greet(name):  # 'name' is a parameter\n    print(f\"Hello, {name}!\")\n    \n<# Arguments\n#Arguments are the actual values passed to the function when it is called.\n#Example\ngreet(\"Alice\")  # \"Alice\" is the argument",
      "metadata": {
        "trusted": true
      },
      "outputs": [],
      "execution_count": null
    },
    {
      "id": "23c06f3c-3f43-4e2d-bc0a-dfa05f22335c",
      "cell_type": "code",
      "source": "3#. What are the different ways to define and call a function in Python?\n# 1. Defining Functions\n#a. Standard Function Definition\ndef greet(name):\n    return f\"Hello, {name}!\"\n#b. Function with Default Arguments\ndef greet(name=\"Guest\"):\n    return f\"Hello, {name}!\"\n2. Calling Functions\na. Using Positional Arguments\npython\nCopy\nEdit\ndef greet(name, message):\n    return f\"{message}, {name}!\"\n\ngreet(\"Alice\", \"Hi\")\nb. Using Keyword Arguments\npython\nCopy\nEdit\ngreet(name=\"Alice\", message=\"Hello\")\nc. Using Default Parameters\npython\nCopy\nEdit\ndef greet(name=\"Guest\"):\n    return f\"Hello, {name}!\"\n\ngreet()         # Uses default\ngreet(\"Alice\")  # Overrides default\n",
      "metadata": {
        "trusted": true
      },
      "outputs": [],
      "execution_count": null
    },
    {
      "id": "4e7e7a06-7b4c-42d5-9840-cc316692c657",
      "cell_type": "code",
      "source": "4#. What is the purpose of the `return` statement in a Python function?\n#The purpose of the return statement in a Python function is to:\n#Send a result back to the caller: When a function finishes its execution, return provides the output (or result) that can be used elsewhere in the program.\n#End the function's execution: Once a return statement is executed, the function stops running, even if there are more lines of code after it.\n#example\ndef add(a, b):\n    return a + b\n\nresult = add(3, 4)\nprint(result) ",
      "metadata": {
        "trusted": true
      },
      "outputs": [],
      "execution_count": null
    },
    {
      "id": "8152878d-febc-4eae-a371-51c081cccc17",
      "cell_type": "code",
      "source": "5#. What are iterators in Python and how do they differ from iterables?\n#Iterables:\n#An iterable is any object that can be looped over (i.e., you can use it in a for loop).\n#It must implement the __iter__() method, which returns an iterator.\n#Examples: lists, tuples, strings, dictionaries, sets, etc.\nmy_list = [1, 2, 3] \n\n#Iterators:\n#An iterator is an object that represents a stream of data; it returns items one at a time using the next() function.\n#It implements two methods: __iter__() and __next__().\n#Once all items are consumed, calling next() raises a StopIteration exception.\nmy_iter = iter(my_list)  # This creates an iterator from an iterable\nprint(next(my_iter))  \nprint(next(my_iter))  ",
      "metadata": {
        "trusted": true
      },
      "outputs": [],
      "execution_count": null
    },
    {
      "id": "13de1cc4-a11a-4a88-a41b-a495c2f3f90d",
      "cell_type": "code",
      "source": "6#. Explain the concept of generators in Python and how they are defined.\n#Generators are a special type of iterator in Python that allow you to yield values one at a time, as needed, \n#rather than computing and storing them all at once. \n#This makes them memory-efficient and great for working with large data sets or infinite sequences.\ndef count_up_to(n):\n    count = 1\n    while count <= n:\n        yield count\n        count += 1\ngen = count_up_to(3)\nprint(next(gen))  \nprint(next(gen))\n",
      "metadata": {
        "trusted": true
      },
      "outputs": [],
      "execution_count": null
    },
    {
      "id": "ef44a732-8ba8-44d8-98a9-e0177c5c78ed",
      "cell_type": "code",
      "source": "7#. What are the advantages of using generators over regular functions?\n#Generators offer several advantages over regular functions, including enhanced memory efficiency, \n#lazy evaluation, and a more flexible execution flow. They produce values on demand, rather than all at once, \n#which is particularly useful for large datasets or infinite sequences. \n#They also maintain their state between calls, making them ideal for tasks involving iterative processes. \n\"\"\"Generators are especially useful when:\nDealing with large datasets or streams\nYou want performance gains and reduced memory usage\nYou need to simplify iterator implementation\"\"\"",
      "metadata": {
        "trusted": true
      },
      "outputs": [],
      "execution_count": null
    },
    {
      "id": "a2d59077-b1a4-43f9-8289-6c923313127c",
      "cell_type": "code",
      "source": "8#. What is a lambda function in Python and when is it typically used?\n#A lambda function is a small anonymous function in Python that is defined using the lambda keyword instead of def.\n#It can have any number of arguments, but only one expression. The result of that expression is automatically returned.\nSyntax:\nlambda arguments: expression\nExample:\nsquare = lambda x: x * x\nprint(square(5))  # Output: 25\n",
      "metadata": {
        "trusted": true
      },
      "outputs": [],
      "execution_count": null
    },
    {
      "id": "a7147534-8460-466e-ac33-07b077731763",
      "cell_type": "code",
      "source": "9#. Explain the purpose and usage of the `map()` function in Python.\nThe map() function in Python is used to apply a function to each item in an iterable (like a list or tuple) and return a new iterable (specifically, a map object) containing the results.\nExample 1: Using map() with a regular function\ndef square(x):\n    return x * x\nnums = [1, 2, 3, 4]\nresult = map(square, nums)\nprint(list(result)) \n",
      "metadata": {
        "trusted": true
      },
      "outputs": [],
      "execution_count": null
    },
    {
      "id": "62f5c2c7-10a2-4b9f-bc9e-08f3b22085ff",
      "cell_type": "code",
      "source": "10#. What is the difference between `map()`, `reduce()`, and `filter()` functions in Python?\n# 1. map() – Transform Items\n# Applies a function to each item in an iterable.\n# nums = [1, 2, 3]\n# squares = list(map(lambda x: x ** 2, nums))\n# print(squares)  # Output: [1, 4, 9]\n\n#  2. filter() – Select Items\n# Keeps only the items where the function returns True.\n# nums = [1, 2, 3, 4]\n# evens = list(filter(lambda x: x % 2 == 0, nums))\n# print(evens)  # Output: [2, 4]\n\n# 3. reduce() – Accumulate to One Result\n# Combines elements using a rolling computation. Must be imported from functools.\n# from functools import reduce\n# nums = [1, 2, 3, 4]\n# product = reduce(lambda x, y: x * y, nums)\n# print(product) ",
      "metadata": {
        "trusted": true
      },
      "outputs": [],
      "execution_count": null
    },
    {
      "id": "7a19d980-1dd0-493a-8734-a0abe2668bb6",
      "cell_type": "code",
      "source": "11#. Using pen & Paper write the internal mechanism for sum operation using  reduce function on this given\n#list:[47,11,42,13];",
      "metadata": {
        "trusted": true
      },
      "outputs": [],
      "execution_count": null
    },
    {
      "id": "ceb87917-da8d-4f36-b43d-69a4afce0d61",
      "cell_type": "markdown",
      "source": "Practical Questions:",
      "metadata": {}
    },
    {
      "id": "68692cb2-3557-4509-93ec-77ab81a0bb79",
      "cell_type": "code",
      "source": "1# Write a Python function that takes a list of numbers as input and returns the sum of all even numbers in\n#the list\ndef sum_even_numbers(numbers):\n    return sum(num for num in numbers if num % 2 == 0)\nmy_list = [1, 2, 3, 4, 5, 6,7,8]\nresult = sum_even_numbers(my_list)\nprint(\"Sum of even numbers:\", result)",
      "metadata": {
        "trusted": true
      },
      "outputs": [
        {
          "name": "stdout",
          "output_type": "stream",
          "text": "Sum of even numbers: 20\n"
        }
      ],
      "execution_count": 4
    },
    {
      "id": "abb0a050-0b44-4d83-939b-74aa00bde3b1",
      "cell_type": "code",
      "source": "2 #Create a Python function that accepts a string and returns the reverse of that string.\ndef reverse_string(s):\n    return s[::-1]\ntext = \"hello\"\nreversed_text = reverse_string(text)\nprint(\"Reversed string:\", reversed_text)",
      "metadata": {
        "trusted": true
      },
      "outputs": [
        {
          "name": "stdout",
          "output_type": "stream",
          "text": "Reversed string: olleh\n"
        }
      ],
      "execution_count": 5
    },
    {
      "id": "be7538f9-e76c-4524-8104-d6e2d45ff928",
      "cell_type": "code",
      "source": "3.# Implement a Python function that takes a list of integers and returns a new list containing the squares of\n#each number.\ndef square_numbers(numbers):\n    return [num ** 2 for num in numbers]\nmy_list = [1, 2, 3, 4, 5]\nsquared_list = square_numbers(my_list)\nprint(\"Squared numbers:\", squared_list)",
      "metadata": {
        "trusted": true
      },
      "outputs": [
        {
          "name": "stdout",
          "output_type": "stream",
          "text": "Squared numbers: [1, 4, 9, 16, 25]\n"
        }
      ],
      "execution_count": 6
    },
    {
      "id": "eb718e1a-fe16-4c9d-8355-ea48b9b8db97",
      "cell_type": "code",
      "source": "4.# Write a Python function that checks if a given number is prime or not from 1 to 200.\ndef is_prime(n):\n    if n < 2 or n > 200:\n        return False  # Not in the valid range\n    for i in range(2, int(n**0.5) + 1):\n        if n % i == 0:\n            return False\n    return True\nfor i in range(1, 201):\n    if is_prime(i):\n        print(i, \"is a prime number\")",
      "metadata": {
        "trusted": true
      },
      "outputs": [
        {
          "name": "stdout",
          "output_type": "stream",
          "text": "2 is a prime number\n3 is a prime number\n5 is a prime number\n7 is a prime number\n11 is a prime number\n13 is a prime number\n17 is a prime number\n19 is a prime number\n23 is a prime number\n29 is a prime number\n31 is a prime number\n37 is a prime number\n41 is a prime number\n43 is a prime number\n47 is a prime number\n53 is a prime number\n59 is a prime number\n61 is a prime number\n67 is a prime number\n71 is a prime number\n73 is a prime number\n79 is a prime number\n83 is a prime number\n89 is a prime number\n97 is a prime number\n101 is a prime number\n103 is a prime number\n107 is a prime number\n109 is a prime number\n113 is a prime number\n127 is a prime number\n131 is a prime number\n137 is a prime number\n139 is a prime number\n149 is a prime number\n151 is a prime number\n157 is a prime number\n163 is a prime number\n167 is a prime number\n173 is a prime number\n179 is a prime number\n181 is a prime number\n191 is a prime number\n193 is a prime number\n197 is a prime number\n199 is a prime number\n"
        }
      ],
      "execution_count": 7
    },
    {
      "id": "18924f2a-acaf-4dd0-a873-991f094857c6",
      "cell_type": "code",
      "source": "5# Create an iterator class in Python that generates the Fibonacci sequence up to a specified number of\n#terms.\ndef fibonacci(n):\n      #defining first two variables\n    a,b = 0,1\n    yield 0\n    yield 1\n    for i in range(2, n):\n        yield a+b\n        #swaping a with b and b with sum\n        a,b = b, a+b\nif __name__ == \"__main__\":\n    n = 10\n    # Function Calling\n    gen = fibonacci(n)\n    \n    #displaying the series\n    print(\"Fibonacci Series: \",end=\"\") \n    ",
      "metadata": {
        "trusted": true
      },
      "outputs": [
        {
          "name": "stdout",
          "output_type": "stream",
          "text": "Fibonacci Series: "
        }
      ],
      "execution_count": 20
    },
    {
      "id": "b2c9c775-18bb-4348-a690-434040017ee2",
      "cell_type": "code",
      "source": "6.# Write a generator function in Python that yields the powers of 2 up to a given exponent\ndef powers_of_two(max_exponent):\n    for exp in range(max_exponent + 1):\n        yield 2 ** exp\nfor power in powers_of_two(5):\n    print(power)",
      "metadata": {
        "trusted": true
      },
      "outputs": [
        {
          "name": "stdout",
          "output_type": "stream",
          "text": "1\n2\n4\n8\n16\n32\n"
        }
      ],
      "execution_count": 8
    },
    {
      "id": "985776a2-336c-4c03-9eb9-97571bf54683",
      "cell_type": "code",
      "source": "7#. Implement a generator function that reads a file line by line and yields each line as a string.\nfilepath = \"example.txt\"\n# Create a dummy file for testing\nwith open(filepath, 'w') as f:\n    f.write(\"This is line 1.\\n\")\n    f.write(\"This is line 2.\\n\")\n    f.write(\"This is line 3.\")\nfor line in read_file_by_line(filepath):\n    print(line)",
      "metadata": {
        "trusted": true
      },
      "outputs": [],
      "execution_count": null
    },
    {
      "id": "d55ebc8e-8d81-4d6f-b91f-9a919b1207a0",
      "cell_type": "code",
      "source": "8.# Use a lambda function in Python to sort a list of tuples based on the second element of each tuple.\nmy_list = [(1, 3), (4, 1), (2, 2), (5, 0)]\n# Sort using a lambda function\nsorted_list = sorted(my_list, key=lambda x: x[1])\nprint(sorted_list)",
      "metadata": {
        "trusted": true
      },
      "outputs": [
        {
          "name": "stdout",
          "output_type": "stream",
          "text": "[(5, 0), (4, 1), (2, 2), (1, 3)]\n"
        }
      ],
      "execution_count": 15
    },
    {
      "id": "20de53ef-5894-42d6-a4d3-0e3b0cdec76b",
      "cell_type": "code",
      "source": "9#. Write a Python program that uses `map()` to convert a list of temperatures from Celsius to Fahrenheit.\n# List of temperatures in Celsius\ncelsius = [0, 20, 37, 100]\n# Convert to Fahrenheit using map and a lambda function\nfahrenheit = list(map(lambda c: (c * 9/5) + 32, celsius))\nprint(\"Celsius:\", celsius)\nprint(\"Fahrenheit:\", fahrenheit)",
      "metadata": {
        "trusted": true
      },
      "outputs": [
        {
          "name": "stdout",
          "output_type": "stream",
          "text": "Celsius: [0, 20, 37, 100]\nFahrenheit: [32.0, 68.0, 98.6, 212.0]\n"
        }
      ],
      "execution_count": 16
    },
    {
      "id": "16817ebc-54a2-49c0-a000-47cc94b412a2",
      "cell_type": "code",
      "source": "10#. Create a Python program that uses `filter()` to remove all the vowels from a given string.\ndef remove_vowels(input_str):\n    vowels = \"aeiouAEIOU\"\n    return ''.join(filter(lambda char: char not in vowels, input_str))\ntext = \"Hello, World!\"\nresult = remove_vowels(text)\nprint(\"Original:\", text)\nprint(\"Without vowels:\", result)",
      "metadata": {
        "trusted": true
      },
      "outputs": [
        {
          "name": "stdout",
          "output_type": "stream",
          "text": "Original: Hello, World!\nWithout vowels: Hll, Wrld!\n"
        }
      ],
      "execution_count": 17
    },
    {
      "id": "7f7faa1b-96c7-4539-bb45-c9e627fa225e",
      "cell_type": "code",
      "source": "",
      "metadata": {
        "trusted": true
      },
      "outputs": [],
      "execution_count": null
    }
  ]
}